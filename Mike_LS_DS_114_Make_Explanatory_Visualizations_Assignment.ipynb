{
  "nbformat": 4,
  "nbformat_minor": 0,
  "metadata": {
    "colab": {
      "name": "Mike - LS_DS_114_Make_Explanatory_Visualizations_Assignment.ipynb",
      "provenance": [],
      "collapsed_sections": [],
      "include_colab_link": true
    },
    "language_info": {
      "codemirror_mode": {
        "name": "ipython",
        "version": 3
      },
      "file_extension": ".py",
      "mimetype": "text/x-python",
      "name": "python",
      "nbconvert_exporter": "python",
      "pygments_lexer": "ipython3",
      "version": "3.7.1"
    },
    "kernelspec": {
      "display_name": "Python 3",
      "language": "python",
      "name": "python3"
    }
  },
  "cells": [
    {
      "cell_type": "markdown",
      "metadata": {
        "id": "view-in-github",
        "colab_type": "text"
      },
      "source": [
        "<a href=\"https://colab.research.google.com/github/MichaelMendonca/DS-Unit-1-Sprint-1-Data-Wrangling-and-Storytelling/blob/master/Mike_LS_DS_114_Make_Explanatory_Visualizations_Assignment.ipynb\" target=\"_parent\"><img src=\"https://colab.research.google.com/assets/colab-badge.svg\" alt=\"Open In Colab\"/></a>"
      ]
    },
    {
      "cell_type": "markdown",
      "metadata": {
        "colab_type": "text",
        "id": "NMEswXWh9mqw"
      },
      "source": [
        "Lambda School Data Science\n",
        "\n",
        "*Unit 1, Sprint 1, Module 4*\n",
        "\n",
        "---\n",
        "\n",
        "# ASSIGNMENT\n",
        "\n",
        "### 1) Replicate the lesson code. I recommend that you [do not copy-paste](https://docs.google.com/document/d/1ubOw9B3Hfip27hF2ZFnW3a3z9xAgrUDRReOEo-FHCVs/edit).\n",
        "\n",
        "Get caught up to where we got our example in class and then try and take things further. How close to \"pixel perfect\" can you make the lecture graph?\n",
        "\n",
        "Once you have something that you're proud of, share your graph in the cohort channel and move on to the second exercise.\n",
        "\n",
        "### 2) Reproduce another example from [FiveThityEight's shared data repository](https://data.fivethirtyeight.com/).\n",
        "\n",
        "**WARNING**: There are a lot of very custom graphs and tables at the above link. I **highly** recommend not trying to reproduce any that look like a table of values or something really different from the graph types that we are already familiar with. Search through the posts until you find a graph type that you are more or less familiar with: histogram, bar chart, stacked bar chart, line chart, [seaborn relplot](https://seaborn.pydata.org/generated/seaborn.relplot.html), etc. Recreating some of the graphics that 538 uses would be a lot easier in Adobe photoshop/illustrator than with matplotlib. \n",
        "\n",
        "- If you put in some time to find a graph that looks \"easy\" to replicate you'll probably find that it's not as easy as you thought. \n",
        "\n",
        "- If you start with a graph that looks hard to replicate you'll probably run up against a brick wall and be disappointed with your afternoon.\n",
        "\n",
        "\n",
        "\n",
        "\n",
        "\n",
        "\n",
        "\n",
        "\n",
        "\n",
        "\n"
      ]
    },
    {
      "cell_type": "code",
      "metadata": {
        "id": "7SY1ZHawyZvz",
        "colab_type": "code",
        "outputId": "460aa09a-379c-408a-bb5e-4192c15deb63",
        "colab": {
          "base_uri": "https://localhost:8080/",
          "height": 355
        }
      },
      "source": [
        "# Your Work Here\n",
        "\n",
        "import pandas as pd\n",
        "import numpy as np\n",
        "import matplotlib.pyplot as plt\n",
        "from IPython.display import display, Image\n",
        "\n",
        "url = 'https://fivethirtyeight.com/wp-content/uploads/2017/09/mehtahickey-inconvenient-0830-1.png'\n",
        "example = Image(url=url, width=400)\n",
        "\n",
        "display(example)"
      ],
      "execution_count": 0,
      "outputs": [
        {
          "output_type": "display_data",
          "data": {
            "text/html": [
              "<img src=\"https://fivethirtyeight.com/wp-content/uploads/2017/09/mehtahickey-inconvenient-0830-1.png\" width=\"400\"/>"
            ],
            "text/plain": [
              "<IPython.core.display.Image object>"
            ]
          },
          "metadata": {
            "tags": []
          }
        }
      ]
    },
    {
      "cell_type": "code",
      "metadata": {
        "id": "PHJgI7p2PSY0",
        "colab_type": "code",
        "colab": {}
      },
      "source": [
        "# Reproduce another example\n",
        "import pandas as pd\n",
        "\n",
        "df = pd.read_csv('https://projects.fivethirtyeight.com/mlb-api/mlb_elo.csv')"
      ],
      "execution_count": 0,
      "outputs": []
    },
    {
      "cell_type": "code",
      "metadata": {
        "id": "JW9XwNqvQVXL",
        "colab_type": "code",
        "outputId": "c9f00c98-0458-49fa-a158-e5fb92ef0ea8",
        "colab": {
          "base_uri": "https://localhost:8080/",
          "height": 299
        }
      },
      "source": [
        "df.head()"
      ],
      "execution_count": 0,
      "outputs": [
        {
          "output_type": "execute_result",
          "data": {
            "text/html": [
              "<div>\n",
              "<style scoped>\n",
              "    .dataframe tbody tr th:only-of-type {\n",
              "        vertical-align: middle;\n",
              "    }\n",
              "\n",
              "    .dataframe tbody tr th {\n",
              "        vertical-align: top;\n",
              "    }\n",
              "\n",
              "    .dataframe thead th {\n",
              "        text-align: right;\n",
              "    }\n",
              "</style>\n",
              "<table border=\"1\" class=\"dataframe\">\n",
              "  <thead>\n",
              "    <tr style=\"text-align: right;\">\n",
              "      <th></th>\n",
              "      <th>date</th>\n",
              "      <th>season</th>\n",
              "      <th>neutral</th>\n",
              "      <th>playoff</th>\n",
              "      <th>team1</th>\n",
              "      <th>team2</th>\n",
              "      <th>elo1_pre</th>\n",
              "      <th>elo2_pre</th>\n",
              "      <th>elo_prob1</th>\n",
              "      <th>elo_prob2</th>\n",
              "      <th>elo1_post</th>\n",
              "      <th>elo2_post</th>\n",
              "      <th>rating1_pre</th>\n",
              "      <th>rating2_pre</th>\n",
              "      <th>pitcher1</th>\n",
              "      <th>pitcher2</th>\n",
              "      <th>pitcher1_rgs</th>\n",
              "      <th>pitcher2_rgs</th>\n",
              "      <th>pitcher1_adj</th>\n",
              "      <th>pitcher2_adj</th>\n",
              "      <th>rating_prob1</th>\n",
              "      <th>rating_prob2</th>\n",
              "      <th>rating1_post</th>\n",
              "      <th>rating2_post</th>\n",
              "      <th>score1</th>\n",
              "      <th>score2</th>\n",
              "    </tr>\n",
              "  </thead>\n",
              "  <tbody>\n",
              "    <tr>\n",
              "      <th>0</th>\n",
              "      <td>2019-10-30</td>\n",
              "      <td>2019</td>\n",
              "      <td>0</td>\n",
              "      <td>w</td>\n",
              "      <td>HOU</td>\n",
              "      <td>WSN</td>\n",
              "      <td>1599.542804</td>\n",
              "      <td>1584.363378</td>\n",
              "      <td>0.574617</td>\n",
              "      <td>0.425383</td>\n",
              "      <td>1594.882297</td>\n",
              "      <td>1589.023885</td>\n",
              "      <td>1591.026009</td>\n",
              "      <td>1580.329587</td>\n",
              "      <td>Zack Greinke</td>\n",
              "      <td>Max Scherzer</td>\n",
              "      <td>56.920649</td>\n",
              "      <td>61.723620</td>\n",
              "      <td>0.989236</td>\n",
              "      <td>27.776342</td>\n",
              "      <td>0.515172</td>\n",
              "      <td>0.484828</td>\n",
              "      <td>1587.973463</td>\n",
              "      <td>1583.382133</td>\n",
              "      <td>2</td>\n",
              "      <td>6</td>\n",
              "    </tr>\n",
              "    <tr>\n",
              "      <th>1</th>\n",
              "      <td>2019-10-29</td>\n",
              "      <td>2019</td>\n",
              "      <td>0</td>\n",
              "      <td>w</td>\n",
              "      <td>HOU</td>\n",
              "      <td>WSN</td>\n",
              "      <td>1605.069000</td>\n",
              "      <td>1578.837182</td>\n",
              "      <td>0.595209</td>\n",
              "      <td>0.404791</td>\n",
              "      <td>1599.542804</td>\n",
              "      <td>1584.363378</td>\n",
              "      <td>1595.165625</td>\n",
              "      <td>1576.189971</td>\n",
              "      <td>Justin Verlander</td>\n",
              "      <td>Stephen Strasburg</td>\n",
              "      <td>62.975093</td>\n",
              "      <td>60.272516</td>\n",
              "      <td>28.723451</td>\n",
              "      <td>21.776276</td>\n",
              "      <td>0.594638</td>\n",
              "      <td>0.405362</td>\n",
              "      <td>1591.026009</td>\n",
              "      <td>1580.329587</td>\n",
              "      <td>2</td>\n",
              "      <td>7</td>\n",
              "    </tr>\n",
              "    <tr>\n",
              "      <th>2</th>\n",
              "      <td>2019-10-27</td>\n",
              "      <td>2019</td>\n",
              "      <td>0</td>\n",
              "      <td>w</td>\n",
              "      <td>WSN</td>\n",
              "      <td>HOU</td>\n",
              "      <td>1584.005206</td>\n",
              "      <td>1599.900976</td>\n",
              "      <td>0.515546</td>\n",
              "      <td>0.484454</td>\n",
              "      <td>1578.837182</td>\n",
              "      <td>1605.069000</td>\n",
              "      <td>1578.722119</td>\n",
              "      <td>1592.633477</td>\n",
              "      <td>Joe Ross</td>\n",
              "      <td>Gerrit Cole</td>\n",
              "      <td>49.433198</td>\n",
              "      <td>66.891460</td>\n",
              "      <td>-29.811205</td>\n",
              "      <td>47.888341</td>\n",
              "      <td>0.373102</td>\n",
              "      <td>0.626898</td>\n",
              "      <td>1576.189971</td>\n",
              "      <td>1595.165625</td>\n",
              "      <td>1</td>\n",
              "      <td>7</td>\n",
              "    </tr>\n",
              "    <tr>\n",
              "      <th>3</th>\n",
              "      <td>2019-10-26</td>\n",
              "      <td>2019</td>\n",
              "      <td>0</td>\n",
              "      <td>w</td>\n",
              "      <td>WSN</td>\n",
              "      <td>HOU</td>\n",
              "      <td>1589.985555</td>\n",
              "      <td>1593.920627</td>\n",
              "      <td>0.538425</td>\n",
              "      <td>0.461575</td>\n",
              "      <td>1584.005206</td>\n",
              "      <td>1599.900976</td>\n",
              "      <td>1583.715416</td>\n",
              "      <td>1587.640180</td>\n",
              "      <td>Patrick Corbin</td>\n",
              "      <td>Jose Urquidy</td>\n",
              "      <td>56.003581</td>\n",
              "      <td>51.251046</td>\n",
              "      <td>0.823752</td>\n",
              "      <td>-24.893480</td>\n",
              "      <td>0.586974</td>\n",
              "      <td>0.413026</td>\n",
              "      <td>1578.722119</td>\n",
              "      <td>1592.633477</td>\n",
              "      <td>1</td>\n",
              "      <td>8</td>\n",
              "    </tr>\n",
              "    <tr>\n",
              "      <th>4</th>\n",
              "      <td>2019-10-25</td>\n",
              "      <td>2019</td>\n",
              "      <td>0</td>\n",
              "      <td>w</td>\n",
              "      <td>WSN</td>\n",
              "      <td>HOU</td>\n",
              "      <td>1593.827376</td>\n",
              "      <td>1590.078806</td>\n",
              "      <td>0.553044</td>\n",
              "      <td>0.446956</td>\n",
              "      <td>1589.985555</td>\n",
              "      <td>1593.920627</td>\n",
              "      <td>1586.428733</td>\n",
              "      <td>1584.926863</td>\n",
              "      <td>Anibal Sanchez</td>\n",
              "      <td>Zack Greinke</td>\n",
              "      <td>54.036365</td>\n",
              "      <td>57.096801</td>\n",
              "      <td>-9.053908</td>\n",
              "      <td>2.440389</td>\n",
              "      <td>0.526852</td>\n",
              "      <td>0.473148</td>\n",
              "      <td>1583.715416</td>\n",
              "      <td>1587.640180</td>\n",
              "      <td>1</td>\n",
              "      <td>4</td>\n",
              "    </tr>\n",
              "  </tbody>\n",
              "</table>\n",
              "</div>"
            ],
            "text/plain": [
              "         date  season  neutral  ... rating2_post score1 score2\n",
              "0  2019-10-30    2019        0  ...  1583.382133      2      6\n",
              "1  2019-10-29    2019        0  ...  1580.329587      2      7\n",
              "2  2019-10-27    2019        0  ...  1595.165625      1      7\n",
              "3  2019-10-26    2019        0  ...  1592.633477      1      8\n",
              "4  2019-10-25    2019        0  ...  1587.640180      1      4\n",
              "\n",
              "[5 rows x 26 columns]"
            ]
          },
          "metadata": {
            "tags": []
          },
          "execution_count": 157
        }
      ]
    },
    {
      "cell_type": "code",
      "metadata": {
        "id": "oTMhHRQrRTCo",
        "colab_type": "code",
        "colab": {}
      },
      "source": [
        "df['date'] = pd.to_datetime(df['date'])"
      ],
      "execution_count": 0,
      "outputs": []
    },
    {
      "cell_type": "code",
      "metadata": {
        "id": "qlmbUKDJRbhJ",
        "colab_type": "code",
        "colab": {}
      },
      "source": [
        "df.set_index('date', inplace=True)"
      ],
      "execution_count": 0,
      "outputs": []
    },
    {
      "cell_type": "code",
      "metadata": {
        "id": "F0DgtVXIRisw",
        "colab_type": "code",
        "outputId": "4a3e8b6f-71f2-438c-c7d1-66f5ffd10cf7",
        "colab": {
          "base_uri": "https://localhost:8080/",
          "height": 329
        }
      },
      "source": [
        "df.head()"
      ],
      "execution_count": 0,
      "outputs": [
        {
          "output_type": "execute_result",
          "data": {
            "text/html": [
              "<div>\n",
              "<style scoped>\n",
              "    .dataframe tbody tr th:only-of-type {\n",
              "        vertical-align: middle;\n",
              "    }\n",
              "\n",
              "    .dataframe tbody tr th {\n",
              "        vertical-align: top;\n",
              "    }\n",
              "\n",
              "    .dataframe thead th {\n",
              "        text-align: right;\n",
              "    }\n",
              "</style>\n",
              "<table border=\"1\" class=\"dataframe\">\n",
              "  <thead>\n",
              "    <tr style=\"text-align: right;\">\n",
              "      <th></th>\n",
              "      <th>season</th>\n",
              "      <th>neutral</th>\n",
              "      <th>playoff</th>\n",
              "      <th>team1</th>\n",
              "      <th>team2</th>\n",
              "      <th>elo1_pre</th>\n",
              "      <th>elo2_pre</th>\n",
              "      <th>elo_prob1</th>\n",
              "      <th>elo_prob2</th>\n",
              "      <th>elo1_post</th>\n",
              "      <th>elo2_post</th>\n",
              "      <th>rating1_pre</th>\n",
              "      <th>rating2_pre</th>\n",
              "      <th>pitcher1</th>\n",
              "      <th>pitcher2</th>\n",
              "      <th>pitcher1_rgs</th>\n",
              "      <th>pitcher2_rgs</th>\n",
              "      <th>pitcher1_adj</th>\n",
              "      <th>pitcher2_adj</th>\n",
              "      <th>rating_prob1</th>\n",
              "      <th>rating_prob2</th>\n",
              "      <th>rating1_post</th>\n",
              "      <th>rating2_post</th>\n",
              "      <th>score1</th>\n",
              "      <th>score2</th>\n",
              "    </tr>\n",
              "    <tr>\n",
              "      <th>date</th>\n",
              "      <th></th>\n",
              "      <th></th>\n",
              "      <th></th>\n",
              "      <th></th>\n",
              "      <th></th>\n",
              "      <th></th>\n",
              "      <th></th>\n",
              "      <th></th>\n",
              "      <th></th>\n",
              "      <th></th>\n",
              "      <th></th>\n",
              "      <th></th>\n",
              "      <th></th>\n",
              "      <th></th>\n",
              "      <th></th>\n",
              "      <th></th>\n",
              "      <th></th>\n",
              "      <th></th>\n",
              "      <th></th>\n",
              "      <th></th>\n",
              "      <th></th>\n",
              "      <th></th>\n",
              "      <th></th>\n",
              "      <th></th>\n",
              "      <th></th>\n",
              "    </tr>\n",
              "  </thead>\n",
              "  <tbody>\n",
              "    <tr>\n",
              "      <th>2019-10-30</th>\n",
              "      <td>2019</td>\n",
              "      <td>0</td>\n",
              "      <td>w</td>\n",
              "      <td>HOU</td>\n",
              "      <td>WSN</td>\n",
              "      <td>1599.542804</td>\n",
              "      <td>1584.363378</td>\n",
              "      <td>0.574617</td>\n",
              "      <td>0.425383</td>\n",
              "      <td>1594.882297</td>\n",
              "      <td>1589.023885</td>\n",
              "      <td>1591.026009</td>\n",
              "      <td>1580.329587</td>\n",
              "      <td>Zack Greinke</td>\n",
              "      <td>Max Scherzer</td>\n",
              "      <td>56.920649</td>\n",
              "      <td>61.723620</td>\n",
              "      <td>0.989236</td>\n",
              "      <td>27.776342</td>\n",
              "      <td>0.515172</td>\n",
              "      <td>0.484828</td>\n",
              "      <td>1587.973463</td>\n",
              "      <td>1583.382133</td>\n",
              "      <td>2</td>\n",
              "      <td>6</td>\n",
              "    </tr>\n",
              "    <tr>\n",
              "      <th>2019-10-29</th>\n",
              "      <td>2019</td>\n",
              "      <td>0</td>\n",
              "      <td>w</td>\n",
              "      <td>HOU</td>\n",
              "      <td>WSN</td>\n",
              "      <td>1605.069000</td>\n",
              "      <td>1578.837182</td>\n",
              "      <td>0.595209</td>\n",
              "      <td>0.404791</td>\n",
              "      <td>1599.542804</td>\n",
              "      <td>1584.363378</td>\n",
              "      <td>1595.165625</td>\n",
              "      <td>1576.189971</td>\n",
              "      <td>Justin Verlander</td>\n",
              "      <td>Stephen Strasburg</td>\n",
              "      <td>62.975093</td>\n",
              "      <td>60.272516</td>\n",
              "      <td>28.723451</td>\n",
              "      <td>21.776276</td>\n",
              "      <td>0.594638</td>\n",
              "      <td>0.405362</td>\n",
              "      <td>1591.026009</td>\n",
              "      <td>1580.329587</td>\n",
              "      <td>2</td>\n",
              "      <td>7</td>\n",
              "    </tr>\n",
              "    <tr>\n",
              "      <th>2019-10-27</th>\n",
              "      <td>2019</td>\n",
              "      <td>0</td>\n",
              "      <td>w</td>\n",
              "      <td>WSN</td>\n",
              "      <td>HOU</td>\n",
              "      <td>1584.005206</td>\n",
              "      <td>1599.900976</td>\n",
              "      <td>0.515546</td>\n",
              "      <td>0.484454</td>\n",
              "      <td>1578.837182</td>\n",
              "      <td>1605.069000</td>\n",
              "      <td>1578.722119</td>\n",
              "      <td>1592.633477</td>\n",
              "      <td>Joe Ross</td>\n",
              "      <td>Gerrit Cole</td>\n",
              "      <td>49.433198</td>\n",
              "      <td>66.891460</td>\n",
              "      <td>-29.811205</td>\n",
              "      <td>47.888341</td>\n",
              "      <td>0.373102</td>\n",
              "      <td>0.626898</td>\n",
              "      <td>1576.189971</td>\n",
              "      <td>1595.165625</td>\n",
              "      <td>1</td>\n",
              "      <td>7</td>\n",
              "    </tr>\n",
              "    <tr>\n",
              "      <th>2019-10-26</th>\n",
              "      <td>2019</td>\n",
              "      <td>0</td>\n",
              "      <td>w</td>\n",
              "      <td>WSN</td>\n",
              "      <td>HOU</td>\n",
              "      <td>1589.985555</td>\n",
              "      <td>1593.920627</td>\n",
              "      <td>0.538425</td>\n",
              "      <td>0.461575</td>\n",
              "      <td>1584.005206</td>\n",
              "      <td>1599.900976</td>\n",
              "      <td>1583.715416</td>\n",
              "      <td>1587.640180</td>\n",
              "      <td>Patrick Corbin</td>\n",
              "      <td>Jose Urquidy</td>\n",
              "      <td>56.003581</td>\n",
              "      <td>51.251046</td>\n",
              "      <td>0.823752</td>\n",
              "      <td>-24.893480</td>\n",
              "      <td>0.586974</td>\n",
              "      <td>0.413026</td>\n",
              "      <td>1578.722119</td>\n",
              "      <td>1592.633477</td>\n",
              "      <td>1</td>\n",
              "      <td>8</td>\n",
              "    </tr>\n",
              "    <tr>\n",
              "      <th>2019-10-25</th>\n",
              "      <td>2019</td>\n",
              "      <td>0</td>\n",
              "      <td>w</td>\n",
              "      <td>WSN</td>\n",
              "      <td>HOU</td>\n",
              "      <td>1593.827376</td>\n",
              "      <td>1590.078806</td>\n",
              "      <td>0.553044</td>\n",
              "      <td>0.446956</td>\n",
              "      <td>1589.985555</td>\n",
              "      <td>1593.920627</td>\n",
              "      <td>1586.428733</td>\n",
              "      <td>1584.926863</td>\n",
              "      <td>Anibal Sanchez</td>\n",
              "      <td>Zack Greinke</td>\n",
              "      <td>54.036365</td>\n",
              "      <td>57.096801</td>\n",
              "      <td>-9.053908</td>\n",
              "      <td>2.440389</td>\n",
              "      <td>0.526852</td>\n",
              "      <td>0.473148</td>\n",
              "      <td>1583.715416</td>\n",
              "      <td>1587.640180</td>\n",
              "      <td>1</td>\n",
              "      <td>4</td>\n",
              "    </tr>\n",
              "  </tbody>\n",
              "</table>\n",
              "</div>"
            ],
            "text/plain": [
              "            season  neutral playoff  ... rating2_post score1  score2\n",
              "date                                 ...                            \n",
              "2019-10-30    2019        0       w  ...  1583.382133      2       6\n",
              "2019-10-29    2019        0       w  ...  1580.329587      2       7\n",
              "2019-10-27    2019        0       w  ...  1595.165625      1       7\n",
              "2019-10-26    2019        0       w  ...  1592.633477      1       8\n",
              "2019-10-25    2019        0       w  ...  1587.640180      1       4\n",
              "\n",
              "[5 rows x 25 columns]"
            ]
          },
          "metadata": {
            "tags": []
          },
          "execution_count": 160
        }
      ]
    },
    {
      "cell_type": "code",
      "metadata": {
        "id": "9Cm-_QDCly84",
        "colab_type": "code",
        "colab": {}
      },
      "source": [
        "lastday = df['2019-10-30']"
      ],
      "execution_count": 0,
      "outputs": []
    },
    {
      "cell_type": "code",
      "metadata": {
        "id": "hBi8cZ6gm6Ap",
        "colab_type": "code",
        "outputId": "f2083e98-244a-4928-a8f1-e17842c5a1ee",
        "colab": {
          "base_uri": "https://localhost:8080/",
          "height": 787
        }
      },
      "source": [
        "final = lastday.tail(1)\n",
        "final.T"
      ],
      "execution_count": 0,
      "outputs": [
        {
          "output_type": "execute_result",
          "data": {
            "text/html": [
              "<div>\n",
              "<style scoped>\n",
              "    .dataframe tbody tr th:only-of-type {\n",
              "        vertical-align: middle;\n",
              "    }\n",
              "\n",
              "    .dataframe tbody tr th {\n",
              "        vertical-align: top;\n",
              "    }\n",
              "\n",
              "    .dataframe thead th {\n",
              "        text-align: right;\n",
              "    }\n",
              "</style>\n",
              "<table border=\"1\" class=\"dataframe\">\n",
              "  <thead>\n",
              "    <tr style=\"text-align: right;\">\n",
              "      <th>date</th>\n",
              "      <th>2019-10-30</th>\n",
              "    </tr>\n",
              "  </thead>\n",
              "  <tbody>\n",
              "    <tr>\n",
              "      <th>season</th>\n",
              "      <td>2019</td>\n",
              "    </tr>\n",
              "    <tr>\n",
              "      <th>neutral</th>\n",
              "      <td>0</td>\n",
              "    </tr>\n",
              "    <tr>\n",
              "      <th>playoff</th>\n",
              "      <td>w</td>\n",
              "    </tr>\n",
              "    <tr>\n",
              "      <th>team1</th>\n",
              "      <td>HOU</td>\n",
              "    </tr>\n",
              "    <tr>\n",
              "      <th>team2</th>\n",
              "      <td>WSN</td>\n",
              "    </tr>\n",
              "    <tr>\n",
              "      <th>elo1_pre</th>\n",
              "      <td>1599.54</td>\n",
              "    </tr>\n",
              "    <tr>\n",
              "      <th>elo2_pre</th>\n",
              "      <td>1584.36</td>\n",
              "    </tr>\n",
              "    <tr>\n",
              "      <th>elo_prob1</th>\n",
              "      <td>0.574617</td>\n",
              "    </tr>\n",
              "    <tr>\n",
              "      <th>elo_prob2</th>\n",
              "      <td>0.425383</td>\n",
              "    </tr>\n",
              "    <tr>\n",
              "      <th>elo1_post</th>\n",
              "      <td>1594.88</td>\n",
              "    </tr>\n",
              "    <tr>\n",
              "      <th>elo2_post</th>\n",
              "      <td>1589.02</td>\n",
              "    </tr>\n",
              "    <tr>\n",
              "      <th>rating1_pre</th>\n",
              "      <td>1591.03</td>\n",
              "    </tr>\n",
              "    <tr>\n",
              "      <th>rating2_pre</th>\n",
              "      <td>1580.33</td>\n",
              "    </tr>\n",
              "    <tr>\n",
              "      <th>pitcher1</th>\n",
              "      <td>Zack Greinke</td>\n",
              "    </tr>\n",
              "    <tr>\n",
              "      <th>pitcher2</th>\n",
              "      <td>Max Scherzer</td>\n",
              "    </tr>\n",
              "    <tr>\n",
              "      <th>pitcher1_rgs</th>\n",
              "      <td>56.9206</td>\n",
              "    </tr>\n",
              "    <tr>\n",
              "      <th>pitcher2_rgs</th>\n",
              "      <td>61.7236</td>\n",
              "    </tr>\n",
              "    <tr>\n",
              "      <th>pitcher1_adj</th>\n",
              "      <td>0.989236</td>\n",
              "    </tr>\n",
              "    <tr>\n",
              "      <th>pitcher2_adj</th>\n",
              "      <td>27.7763</td>\n",
              "    </tr>\n",
              "    <tr>\n",
              "      <th>rating_prob1</th>\n",
              "      <td>0.515172</td>\n",
              "    </tr>\n",
              "    <tr>\n",
              "      <th>rating_prob2</th>\n",
              "      <td>0.484828</td>\n",
              "    </tr>\n",
              "    <tr>\n",
              "      <th>rating1_post</th>\n",
              "      <td>1587.97</td>\n",
              "    </tr>\n",
              "    <tr>\n",
              "      <th>rating2_post</th>\n",
              "      <td>1583.38</td>\n",
              "    </tr>\n",
              "    <tr>\n",
              "      <th>score1</th>\n",
              "      <td>2</td>\n",
              "    </tr>\n",
              "    <tr>\n",
              "      <th>score2</th>\n",
              "      <td>6</td>\n",
              "    </tr>\n",
              "  </tbody>\n",
              "</table>\n",
              "</div>"
            ],
            "text/plain": [
              "date            2019-10-30\n",
              "season                2019\n",
              "neutral                  0\n",
              "playoff                  w\n",
              "team1                  HOU\n",
              "team2                  WSN\n",
              "elo1_pre           1599.54\n",
              "elo2_pre           1584.36\n",
              "elo_prob1         0.574617\n",
              "elo_prob2         0.425383\n",
              "elo1_post          1594.88\n",
              "elo2_post          1589.02\n",
              "rating1_pre        1591.03\n",
              "rating2_pre        1580.33\n",
              "pitcher1      Zack Greinke\n",
              "pitcher2      Max Scherzer\n",
              "pitcher1_rgs       56.9206\n",
              "pitcher2_rgs       61.7236\n",
              "pitcher1_adj      0.989236\n",
              "pitcher2_adj       27.7763\n",
              "rating_prob1      0.515172\n",
              "rating_prob2      0.484828\n",
              "rating1_post       1587.97\n",
              "rating2_post       1583.38\n",
              "score1                   2\n",
              "score2                   6"
            ]
          },
          "metadata": {
            "tags": []
          },
          "execution_count": 162
        }
      ]
    },
    {
      "cell_type": "code",
      "metadata": {
        "id": "lIy_yrBPnkuz",
        "colab_type": "code",
        "outputId": "86afabe8-81ad-41e4-9761-58da7f8d07a9",
        "colab": {
          "base_uri": "https://localhost:8080/",
          "height": 106
        }
      },
      "source": [
        "pct_columns = ['score1', 'score2']\n",
        "final[pct_columns].T"
      ],
      "execution_count": 0,
      "outputs": [
        {
          "output_type": "execute_result",
          "data": {
            "text/html": [
              "<div>\n",
              "<style scoped>\n",
              "    .dataframe tbody tr th:only-of-type {\n",
              "        vertical-align: middle;\n",
              "    }\n",
              "\n",
              "    .dataframe tbody tr th {\n",
              "        vertical-align: top;\n",
              "    }\n",
              "\n",
              "    .dataframe thead th {\n",
              "        text-align: right;\n",
              "    }\n",
              "</style>\n",
              "<table border=\"1\" class=\"dataframe\">\n",
              "  <thead>\n",
              "    <tr style=\"text-align: right;\">\n",
              "      <th>date</th>\n",
              "      <th>2019-10-30</th>\n",
              "    </tr>\n",
              "  </thead>\n",
              "  <tbody>\n",
              "    <tr>\n",
              "      <th>score1</th>\n",
              "      <td>2</td>\n",
              "    </tr>\n",
              "    <tr>\n",
              "      <th>score2</th>\n",
              "      <td>6</td>\n",
              "    </tr>\n",
              "  </tbody>\n",
              "</table>\n",
              "</div>"
            ],
            "text/plain": [
              "date    2019-10-30\n",
              "score1           2\n",
              "score2           6"
            ]
          },
          "metadata": {
            "tags": []
          },
          "execution_count": 163
        }
      ]
    },
    {
      "cell_type": "code",
      "metadata": {
        "id": "o413E2wXo6V_",
        "colab_type": "code",
        "outputId": "1b4b4da2-ae6f-4560-c4d7-1e98b8403c05",
        "colab": {
          "base_uri": "https://localhost:8080/",
          "height": 106
        }
      },
      "source": [
        "plot_data = final[pct_columns].T\n",
        "plot_data.index = range(1,3)\n",
        "plot_data.columns = ['score']\n",
        "plot_data"
      ],
      "execution_count": 0,
      "outputs": [
        {
          "output_type": "execute_result",
          "data": {
            "text/html": [
              "<div>\n",
              "<style scoped>\n",
              "    .dataframe tbody tr th:only-of-type {\n",
              "        vertical-align: middle;\n",
              "    }\n",
              "\n",
              "    .dataframe tbody tr th {\n",
              "        vertical-align: top;\n",
              "    }\n",
              "\n",
              "    .dataframe thead th {\n",
              "        text-align: right;\n",
              "    }\n",
              "</style>\n",
              "<table border=\"1\" class=\"dataframe\">\n",
              "  <thead>\n",
              "    <tr style=\"text-align: right;\">\n",
              "      <th></th>\n",
              "      <th>score</th>\n",
              "    </tr>\n",
              "  </thead>\n",
              "  <tbody>\n",
              "    <tr>\n",
              "      <th>1</th>\n",
              "      <td>2</td>\n",
              "    </tr>\n",
              "    <tr>\n",
              "      <th>2</th>\n",
              "      <td>6</td>\n",
              "    </tr>\n",
              "  </tbody>\n",
              "</table>\n",
              "</div>"
            ],
            "text/plain": [
              "   score\n",
              "1      2\n",
              "2      6"
            ]
          },
          "metadata": {
            "tags": []
          },
          "execution_count": 164
        }
      ]
    },
    {
      "cell_type": "code",
      "metadata": {
        "id": "FtCFPVc-qHDu",
        "colab_type": "code",
        "outputId": "4e33fe72-a83e-4a1c-f455-1f52920a8e8b",
        "colab": {
          "base_uri": "https://localhost:8080/",
          "height": 316
        }
      },
      "source": [
        "fig, ax = plt.subplots()\n",
        "\n",
        "fig.patch.set(facecolor=\"yellow\")\n",
        "\n",
        "ax.bar(x=range(1,3), height=plot_data['score'], width=0.9, color=\"black\")\n",
        "\n",
        "ax.set(facecolor=\"white\")\n",
        "\n",
        "ax.set_title(\"Best team\",\n",
        "             fontsize=13,\n",
        "             x=.35,\n",
        "             y=1.1,\n",
        "             fontweight='normal')\n",
        "ax.text(s=\"Champion for 2019-10-30\", fontsize=12, x=-1.85, y=18)\n",
        "\n",
        "ax.set_xlabel(\"score\", fontsize=9)\n",
        "ax.set_ylabel(\"Team\", fontsize=9)\n",
        "\n",
        "ax.set_xticklabels(range(1,3), rotation=0)\n",
        "ax.set_xticks(range(1,3))\n",
        "ax.set_yticklabels(range(0,20,5))\n",
        "ax.set_yticks(range(0,40,5));"
      ],
      "execution_count": 0,
      "outputs": [
        {
          "output_type": "display_data",
          "data": {
            "image/png": "[encoded data removed]",
            "text/plain": [
              "<Figure size 432x288 with 1 Axes>"
            ]
          },
          "metadata": {
            "tags": []
          }
        }
      ]
    },
    {
      "cell_type": "markdown",
      "metadata": {
        "id": "Ydoa2MWW0KIg",
        "colab_type": "text"
      },
      "source": [
        "\n",
        "# Try to start new one"
      ]
    },
    {
      "cell_type": "code",
      "metadata": {
        "id": "23ScJHEM0Ru0",
        "colab_type": "code",
        "colab": {}
      },
      "source": [
        "# Step 2: Reproduce another example from FiveThityEight's shared data repository\n",
        "# Here is the table I've picked. https://fivethirtyeight.com/wp-content/uploads/2014/05/hickey-datalab-steak.png?w=1150\n",
        "import pandas as pd\n",
        "import numpy as np\n",
        "import matplotlib.pyplot as plt\n",
        "import seaborn as sns\n"
      ],
      "execution_count": 0,
      "outputs": []
    },
    {
      "cell_type": "code",
      "metadata": {
        "id": "sJUK2wKn12Yw",
        "colab_type": "code",
        "outputId": "cd11006f-3007-416d-cea2-b5eeca93c10f",
        "colab": {
          "base_uri": "https://localhost:8080/",
          "height": 295
        }
      },
      "source": [
        "from IPython.display import display, Image\n",
        "url = 'https://fivethirtyeight.com/wp-content/uploads/2015/04/barry-jester-datalab-boomersdruguse-actual.png?w=1150'\n",
        "example = Image(url=url, width=400)\n",
        "display(example)"
      ],
      "execution_count": 2,
      "outputs": [
        {
          "output_type": "display_data",
          "data": {
            "text/html": [
              "<img src=\"https://fivethirtyeight.com/wp-content/uploads/2015/04/barry-jester-datalab-boomersdruguse-actual.png?w=1150\" width=\"400\"/>"
            ],
            "text/plain": [
              "<IPython.core.display.Image object>"
            ]
          },
          "metadata": {
            "tags": []
          }
        }
      ]
    },
    {
      "cell_type": "code",
      "metadata": {
        "id": "wkiWPqic17Wb",
        "colab_type": "code",
        "colab": {}
      },
      "source": [
        "# I used this site to determine the red: https://html-color-codes.info/colors-from-image/?imageLoader=# which was #FF2700\n",
        "#fake.plot.barh(width=0.9, color=\"#FF2700\");\n",
        "plt.style.available\n",
        "plt.style.use('fivethirtyeight')"
      ],
      "execution_count": 0,
      "outputs": []
    },
    {
      "cell_type": "code",
      "metadata": {
        "id": "eKTO8BgGVjPK",
        "colab_type": "code",
        "colab": {
          "base_uri": "https://localhost:8080/",
          "height": 249
        },
        "outputId": "12bd55de-86c1-4908-c670-76de2a90e275"
      },
      "source": [
        "#putting a hold on working with the raw data per Mike. \n",
        "df = pd.read_csv('https://github.com/fivethirtyeight/data/raw/master/drug-use-by-age/drug-use-by-age.csv')\n",
        "df.head()"
      ],
      "execution_count": 5,
      "outputs": [
        {
          "output_type": "execute_result",
          "data": {
            "text/html": [
              "<div>\n",
              "<style scoped>\n",
              "    .dataframe tbody tr th:only-of-type {\n",
              "        vertical-align: middle;\n",
              "    }\n",
              "\n",
              "    .dataframe tbody tr th {\n",
              "        vertical-align: top;\n",
              "    }\n",
              "\n",
              "    .dataframe thead th {\n",
              "        text-align: right;\n",
              "    }\n",
              "</style>\n",
              "<table border=\"1\" class=\"dataframe\">\n",
              "  <thead>\n",
              "    <tr style=\"text-align: right;\">\n",
              "      <th></th>\n",
              "      <th>age</th>\n",
              "      <th>n</th>\n",
              "      <th>alcohol-use</th>\n",
              "      <th>alcohol-frequency</th>\n",
              "      <th>marijuana-use</th>\n",
              "      <th>marijuana-frequency</th>\n",
              "      <th>cocaine-use</th>\n",
              "      <th>cocaine-frequency</th>\n",
              "      <th>crack-use</th>\n",
              "      <th>crack-frequency</th>\n",
              "      <th>heroin-use</th>\n",
              "      <th>heroin-frequency</th>\n",
              "      <th>hallucinogen-use</th>\n",
              "      <th>hallucinogen-frequency</th>\n",
              "      <th>inhalant-use</th>\n",
              "      <th>inhalant-frequency</th>\n",
              "      <th>pain-releiver-use</th>\n",
              "      <th>pain-releiver-frequency</th>\n",
              "      <th>oxycontin-use</th>\n",
              "      <th>oxycontin-frequency</th>\n",
              "      <th>tranquilizer-use</th>\n",
              "      <th>tranquilizer-frequency</th>\n",
              "      <th>stimulant-use</th>\n",
              "      <th>stimulant-frequency</th>\n",
              "      <th>meth-use</th>\n",
              "      <th>meth-frequency</th>\n",
              "      <th>sedative-use</th>\n",
              "      <th>sedative-frequency</th>\n",
              "    </tr>\n",
              "  </thead>\n",
              "  <tbody>\n",
              "    <tr>\n",
              "      <th>0</th>\n",
              "      <td>12</td>\n",
              "      <td>2798</td>\n",
              "      <td>3.9</td>\n",
              "      <td>3.0</td>\n",
              "      <td>1.1</td>\n",
              "      <td>4.0</td>\n",
              "      <td>0.1</td>\n",
              "      <td>5.0</td>\n",
              "      <td>0.0</td>\n",
              "      <td>-</td>\n",
              "      <td>0.1</td>\n",
              "      <td>35.5</td>\n",
              "      <td>0.2</td>\n",
              "      <td>52.0</td>\n",
              "      <td>1.6</td>\n",
              "      <td>19.0</td>\n",
              "      <td>2.0</td>\n",
              "      <td>36.0</td>\n",
              "      <td>0.1</td>\n",
              "      <td>24.5</td>\n",
              "      <td>0.2</td>\n",
              "      <td>52.0</td>\n",
              "      <td>0.2</td>\n",
              "      <td>2.0</td>\n",
              "      <td>0.0</td>\n",
              "      <td>-</td>\n",
              "      <td>0.2</td>\n",
              "      <td>13.0</td>\n",
              "    </tr>\n",
              "    <tr>\n",
              "      <th>1</th>\n",
              "      <td>13</td>\n",
              "      <td>2757</td>\n",
              "      <td>8.5</td>\n",
              "      <td>6.0</td>\n",
              "      <td>3.4</td>\n",
              "      <td>15.0</td>\n",
              "      <td>0.1</td>\n",
              "      <td>1.0</td>\n",
              "      <td>0.0</td>\n",
              "      <td>3.0</td>\n",
              "      <td>0.0</td>\n",
              "      <td>-</td>\n",
              "      <td>0.6</td>\n",
              "      <td>6.0</td>\n",
              "      <td>2.5</td>\n",
              "      <td>12.0</td>\n",
              "      <td>2.4</td>\n",
              "      <td>14.0</td>\n",
              "      <td>0.1</td>\n",
              "      <td>41.0</td>\n",
              "      <td>0.3</td>\n",
              "      <td>25.5</td>\n",
              "      <td>0.3</td>\n",
              "      <td>4.0</td>\n",
              "      <td>0.1</td>\n",
              "      <td>5.0</td>\n",
              "      <td>0.1</td>\n",
              "      <td>19.0</td>\n",
              "    </tr>\n",
              "    <tr>\n",
              "      <th>2</th>\n",
              "      <td>14</td>\n",
              "      <td>2792</td>\n",
              "      <td>18.1</td>\n",
              "      <td>5.0</td>\n",
              "      <td>8.7</td>\n",
              "      <td>24.0</td>\n",
              "      <td>0.1</td>\n",
              "      <td>5.5</td>\n",
              "      <td>0.0</td>\n",
              "      <td>-</td>\n",
              "      <td>0.1</td>\n",
              "      <td>2.0</td>\n",
              "      <td>1.6</td>\n",
              "      <td>3.0</td>\n",
              "      <td>2.6</td>\n",
              "      <td>5.0</td>\n",
              "      <td>3.9</td>\n",
              "      <td>12.0</td>\n",
              "      <td>0.4</td>\n",
              "      <td>4.5</td>\n",
              "      <td>0.9</td>\n",
              "      <td>5.0</td>\n",
              "      <td>0.8</td>\n",
              "      <td>12.0</td>\n",
              "      <td>0.1</td>\n",
              "      <td>24.0</td>\n",
              "      <td>0.2</td>\n",
              "      <td>16.5</td>\n",
              "    </tr>\n",
              "    <tr>\n",
              "      <th>3</th>\n",
              "      <td>15</td>\n",
              "      <td>2956</td>\n",
              "      <td>29.2</td>\n",
              "      <td>6.0</td>\n",
              "      <td>14.5</td>\n",
              "      <td>25.0</td>\n",
              "      <td>0.5</td>\n",
              "      <td>4.0</td>\n",
              "      <td>0.1</td>\n",
              "      <td>9.5</td>\n",
              "      <td>0.2</td>\n",
              "      <td>1.0</td>\n",
              "      <td>2.1</td>\n",
              "      <td>4.0</td>\n",
              "      <td>2.5</td>\n",
              "      <td>5.5</td>\n",
              "      <td>5.5</td>\n",
              "      <td>10.0</td>\n",
              "      <td>0.8</td>\n",
              "      <td>3.0</td>\n",
              "      <td>2.0</td>\n",
              "      <td>4.5</td>\n",
              "      <td>1.5</td>\n",
              "      <td>6.0</td>\n",
              "      <td>0.3</td>\n",
              "      <td>10.5</td>\n",
              "      <td>0.4</td>\n",
              "      <td>30.0</td>\n",
              "    </tr>\n",
              "    <tr>\n",
              "      <th>4</th>\n",
              "      <td>16</td>\n",
              "      <td>3058</td>\n",
              "      <td>40.1</td>\n",
              "      <td>10.0</td>\n",
              "      <td>22.5</td>\n",
              "      <td>30.0</td>\n",
              "      <td>1.0</td>\n",
              "      <td>7.0</td>\n",
              "      <td>0.0</td>\n",
              "      <td>1.0</td>\n",
              "      <td>0.1</td>\n",
              "      <td>66.5</td>\n",
              "      <td>3.4</td>\n",
              "      <td>3.0</td>\n",
              "      <td>3.0</td>\n",
              "      <td>3.0</td>\n",
              "      <td>6.2</td>\n",
              "      <td>7.0</td>\n",
              "      <td>1.1</td>\n",
              "      <td>4.0</td>\n",
              "      <td>2.4</td>\n",
              "      <td>11.0</td>\n",
              "      <td>1.8</td>\n",
              "      <td>9.5</td>\n",
              "      <td>0.3</td>\n",
              "      <td>36.0</td>\n",
              "      <td>0.2</td>\n",
              "      <td>3.0</td>\n",
              "    </tr>\n",
              "  </tbody>\n",
              "</table>\n",
              "</div>"
            ],
            "text/plain": [
              "  age     n  alcohol-use  ...  meth-frequency  sedative-use  sedative-frequency\n",
              "0  12  2798          3.9  ...               -           0.2                13.0\n",
              "1  13  2757          8.5  ...             5.0           0.1                19.0\n",
              "2  14  2792         18.1  ...            24.0           0.2                16.5\n",
              "3  15  2956         29.2  ...            10.5           0.4                30.0\n",
              "4  16  3058         40.1  ...            36.0           0.2                 3.0\n",
              "\n",
              "[5 rows x 28 columns]"
            ]
          },
          "metadata": {
            "tags": []
          },
          "execution_count": 5
        }
      ]
    },
    {
      "cell_type": "code",
      "metadata": {
        "id": "2oR5f7vWWEaV",
        "colab_type": "code",
        "colab": {
          "base_uri": "https://localhost:8080/",
          "height": 196
        },
        "outputId": "fa0406f2-2d3e-456f-d95b-6419510ea340"
      },
      "source": [
        "#Creating my fake date\n",
        "fakedata2 = {'Drugs': ['Marijuana', 'Pain reliever', 'Tranquilizer', 'Cocaine', 'Crack', 'OxyContin', 'Stimulant', 'Hallucinogen', 'Sedative', 'Inhalent', 'Meth', 'Heroin'], \n",
        "        '50-64PctUsed': [.0729, .0252, .0143, .0087, .0036, .0036, .0028, .0025, .0023, .0015, .0015, .0005]}\n",
        "fakedata3 = pd.DataFrame(fakedata2)\n",
        "fakedata3.head()"
      ],
      "execution_count": 7,
      "outputs": [
        {
          "output_type": "execute_result",
          "data": {
            "text/html": [
              "<div>\n",
              "<style scoped>\n",
              "    .dataframe tbody tr th:only-of-type {\n",
              "        vertical-align: middle;\n",
              "    }\n",
              "\n",
              "    .dataframe tbody tr th {\n",
              "        vertical-align: top;\n",
              "    }\n",
              "\n",
              "    .dataframe thead th {\n",
              "        text-align: right;\n",
              "    }\n",
              "</style>\n",
              "<table border=\"1\" class=\"dataframe\">\n",
              "  <thead>\n",
              "    <tr style=\"text-align: right;\">\n",
              "      <th></th>\n",
              "      <th>Drugs</th>\n",
              "      <th>50-64PctUsed</th>\n",
              "    </tr>\n",
              "  </thead>\n",
              "  <tbody>\n",
              "    <tr>\n",
              "      <th>0</th>\n",
              "      <td>Marijuana</td>\n",
              "      <td>0.0729</td>\n",
              "    </tr>\n",
              "    <tr>\n",
              "      <th>1</th>\n",
              "      <td>Pain reliever</td>\n",
              "      <td>0.0252</td>\n",
              "    </tr>\n",
              "    <tr>\n",
              "      <th>2</th>\n",
              "      <td>Tranquilizer</td>\n",
              "      <td>0.0143</td>\n",
              "    </tr>\n",
              "    <tr>\n",
              "      <th>3</th>\n",
              "      <td>Cocaine</td>\n",
              "      <td>0.0087</td>\n",
              "    </tr>\n",
              "    <tr>\n",
              "      <th>4</th>\n",
              "      <td>Crack</td>\n",
              "      <td>0.0036</td>\n",
              "    </tr>\n",
              "  </tbody>\n",
              "</table>\n",
              "</div>"
            ],
            "text/plain": [
              "           Drugs  50-64PctUsed\n",
              "0      Marijuana        0.0729\n",
              "1  Pain reliever        0.0252\n",
              "2   Tranquilizer        0.0143\n",
              "3        Cocaine        0.0087\n",
              "4          Crack        0.0036"
            ]
          },
          "metadata": {
            "tags": []
          },
          "execution_count": 7
        }
      ]
    },
    {
      "cell_type": "code",
      "metadata": {
        "id": "drAbRzrvWa0g",
        "colab_type": "code",
        "colab": {
          "base_uri": "https://localhost:8080/",
          "height": 282
        },
        "outputId": "3f80db67-407f-40a1-cd84-7595268014b9"
      },
      "source": [
        "fakedata3.sort_index(ascending=False).plot.barh(color=\"#FF2700\", width=0.9);"
      ],
      "execution_count": 8,
      "outputs": [
        {
          "output_type": "display_data",
          "data": {
            "image/png": "[encoded data removed]",
            "text/plain": [
              "<Figure size 432x288 with 1 Axes>"
            ]
          },
          "metadata": {
            "tags": []
          }
        }
      ]
    },
    {
      "cell_type": "code",
      "metadata": {
        "id": "QpUX7MW4Wn3s",
        "colab_type": "code",
        "colab": {
          "base_uri": "https://localhost:8080/",
          "height": 303
        },
        "outputId": "abec736d-61da-4780-bd49-d9f4e69828f8"
      },
      "source": [
        "sns.set_color_codes(\"deep\")\n",
        "sns.barplot(x=\"50-64PctUsed\", y=\"Drugs\", data=fakedata3, \n",
        "            label=\"50-64PctUsed\", color=\"#FF2700\");\n",
        "sns.despine(left=True, bottom=True)"
      ],
      "execution_count": 13,
      "outputs": [
        {
          "output_type": "display_data",
          "data": {
            "image/png": "[encoded data removed]",
            "text/plain": [
              "<Figure size 432x288 with 1 Axes>"
            ]
          },
          "metadata": {
            "tags": []
          }
        }
      ]
    },
    {
      "cell_type": "markdown",
      "metadata": {
        "id": "0wSrBzmJyWaV",
        "colab_type": "text"
      },
      "source": [
        "# STRETCH OPTIONS\n",
        "\n",
        "### 1) Reproduce one of the following using the matplotlib or seaborn libraries:\n",
        "\n",
        "- [thanksgiving-2015](https://fivethirtyeight.com/features/heres-what-your-part-of-america-eats-on-thanksgiving/) \n",
        "- [candy-power-ranking](https://fivethirtyeight.com/features/the-ultimate-halloween-candy-power-ranking/) \n",
        "- or another example of your choice!\n",
        "\n",
        "### 2) Make more charts!\n",
        "\n",
        "Choose a chart you want to make, from [Visual Vocabulary - Vega Edition](http://ft.com/vocabulary).\n",
        "\n",
        "Find the chart in an example gallery of a Python data visualization library:\n",
        "- [Seaborn](http://seaborn.pydata.org/examples/index.html)\n",
        "- [Altair](https://altair-viz.github.io/gallery/index.html)\n",
        "- [Matplotlib](https://matplotlib.org/gallery.html)\n",
        "- [Pandas](https://pandas.pydata.org/pandas-docs/stable/visualization.html)\n",
        "\n",
        "Reproduce the chart. [Optionally, try the \"Ben Franklin Method.\"](https://docs.google.com/document/d/1ubOw9B3Hfip27hF2ZFnW3a3z9xAgrUDRReOEo-FHCVs/edit) If you want, experiment and make changes.\n",
        "\n",
        "Take notes. Consider sharing your work with your cohort!"
      ]
    },
    {
      "cell_type": "code",
      "metadata": {
        "id": "dRJkKftiy5BJ",
        "colab_type": "code",
        "colab": {}
      },
      "source": [
        "# More Work Here"
      ],
      "execution_count": 0,
      "outputs": []
    }
  ]
}